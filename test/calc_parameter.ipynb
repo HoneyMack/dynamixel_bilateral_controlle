{
 "cells": [
  {
   "cell_type": "markdown",
   "metadata": {},
   "source": [
    "# 前処理"
   ]
  },
  {
   "cell_type": "code",
   "execution_count": null,
   "metadata": {},
   "outputs": [],
   "source": [
    "import pandas as pd\n",
    "import numpy as np\n",
    "import pathlib\n",
    "import matplotlib.pyplot as plt\n",
    "from scipy.signal import butter, filtfilt\n",
    "from typing import Tuple, List"
   ]
  },
  {
   "cell_type": "markdown",
   "metadata": {},
   "source": [
    "## 速度・角速度計算"
   ]
  },
  {
   "cell_type": "code",
   "execution_count": null,
   "metadata": {},
   "outputs": [],
   "source": [
    "def calc_velocity(position: np.ndarray, time: np.ndarray) -> np.ndarray:\n",
    "    velocity = np.zeros_like(position)\n",
    "    dt0 = time[1] - time[0]\n",
    "    dtn = time[-1] - time[-2]\n",
    "    velocity[0] = (-3 * position[0] + 4 * position[1] - position[2]) / (2 * dt0)  # 始点は2次前進差分\n",
    "    velocity[-1] = (3 * position[-1] - 4 * position[-2] + position[-3]) / (2 * dtn)  # 終点は2次後退差分\n",
    "    for i in range(1, len(time) - 1):\n",
    "        dti2 = time[i + 1] - time[i - 1]\n",
    "        velocity[i] = (position[i + 1] - position[i - 1]) / dti2  # 中間点は2次中心差分\n",
    "    return velocity\n",
    "\n",
    "\n",
    "def calc_acceleration(position: np.ndarray, time: np.ndarray) -> np.ndarray:\n",
    "    acceleration = np.zeros_like(position)\n",
    "    for i in range(1, len(time) - 1):\n",
    "        dt = (time[i + 1] - time[i - 1]) / 2\n",
    "        acceleration[i] = (position[i + 1] - 2 * position[i] + position[i - 1]) / (dt**2)  # 中間点は2次中心差分\n",
    "\n",
    "    # 始点・終点は２次前進差分・２次後退差分\n",
    "    dt0 = time[1] - time[0]\n",
    "    dtn = time[-1] - time[-2]\n",
    "    acceleration[0] = (position[0] - 4 * position[1] + 5 * position[2] - 2 * position[3]) / (\n",
    "        dt0**2\n",
    "    )  # 始点は2次前進差分\n",
    "    acceleration[-1] = (-position[-4] + 4 * position[-3] - 5 * position[-2] + 2 * position[-1]) / (\n",
    "        dtn**2\n",
    "    )  # 終点は2次後退差分\n",
    "\n",
    "    return acceleration"
   ]
  },
  {
   "cell_type": "code",
   "execution_count": null,
   "metadata": {},
   "outputs": [],
   "source": [
    "def read_data(file):\n",
    "    # Read the CSV file\n",
    "    df = pd.read_csv(file)\n",
    "    # Extract each column to arrays\n",
    "    time = df[\"time\"].to_numpy()\n",
    "    current = df[\"current\"].to_numpy()\n",
    "    position = df[\"position\"].to_numpy()\n",
    "    velocity = df[\"velocity\"].to_numpy()\n",
    "    \n",
    "    # positionのオフセット調整\n",
    "    position = position - position[0]\n",
    "    \n",
    "    # もし，velocityのデータが0の場合は数値微分で求める\n",
    "    if np.allclose(velocity,0):\n",
    "        velocity = calc_velocity(position, time)\n",
    "        \n",
    "    \n",
    "    return time, current, position, velocity\n",
    "\n",
    "# Read the CSV file\n",
    "base = pathlib.Path().resolve().parent"
   ]
  },
  {
   "cell_type": "code",
   "execution_count": null,
   "metadata": {},
   "outputs": [],
   "source": [
    "def plot_graph(time, current, position, velocity, accel):\n",
    "    plt.figure()\n",
    "    # 描画の都合で正規化\n",
    "    current = current / np.max(np.abs(current))\n",
    "    position = position / np.max(np.abs(position))\n",
    "    velocity = velocity / np.max(np.abs(velocity))\n",
    "    accel = accel / np.max(np.abs(accel))\n",
    "\n",
    "    plt.plot(time, current, label=\"current\")\n",
    "    plt.plot(time, position, label=\"position\")\n",
    "    plt.plot(time, velocity, label=\"velocity\")\n",
    "    plt.plot(time, accel, label=\"acceleration\")\n",
    "    plt.legend()\n",
    "    plt.grid()"
   ]
  },
  {
   "cell_type": "markdown",
   "metadata": {},
   "source": [
    "### 生データを描画"
   ]
  },
  {
   "cell_type": "code",
   "execution_count": null,
   "metadata": {},
   "outputs": [],
   "source": [
    "time, current, position,velocity = read_data(base.joinpath(\"data\", \"data3.csv\"))\n",
    "# 加速度の計算\n",
    "accel = calc_acceleration(position, time)\n",
    "# 描画\n",
    "plot_graph(time, current, position, velocity, accel)"
   ]
  },
  {
   "cell_type": "markdown",
   "metadata": {},
   "source": [
    "## フィルタリング処理"
   ]
  },
  {
   "cell_type": "markdown",
   "metadata": {},
   "source": [
    "### ローパス"
   ]
  },
  {
   "cell_type": "code",
   "execution_count": null,
   "metadata": {},
   "outputs": [],
   "source": [
    "# ローパスをかける\n",
    "def butter_lowpass_filter(data, cutoff, fs, order):\n",
    "    nyquist = 0.5 * fs\n",
    "    normal_cutoff = cutoff / nyquist\n",
    "    b, a = butter(order, normal_cutoff, btype=\"low\", analog=False)\n",
    "    y = filtfilt(b, a, data)\n",
    "    return y"
   ]
  },
  {
   "cell_type": "markdown",
   "metadata": {},
   "source": [
    "#### ローパス結果を描画"
   ]
  },
  {
   "cell_type": "code",
   "execution_count": null,
   "metadata": {},
   "outputs": [],
   "source": [
    "# Define the filter\n",
    "cutoff = 10  # Desired cutoff frequency, Hz\n",
    "fs = 500.0  # Sampling rate, Hz\n",
    "order = 3  # Filter order\n",
    "\n",
    "\n",
    "# Apply the filter\n",
    "current_filtered = butter_lowpass_filter(current, cutoff, fs, order)\n",
    "position_filtered = butter_lowpass_filter(position, cutoff, fs, order)\n",
    "\n",
    "# 速度の計算\n",
    "velocity_filtered = calc_velocity(position_filtered, time)\n",
    "velocity_filtered = butter_lowpass_filter(velocity_filtered, cutoff, fs, order)\n",
    "\n",
    "# 加速度の計算\n",
    "accel_filtered = calc_acceleration(position_filtered, time)\n",
    "accel_filtered = butter_lowpass_filter(accel_filtered, cutoff, fs, order)\n",
    "\n",
    "plot_graph(time, current_filtered, position_filtered, velocity_filtered, accel_filtered)"
   ]
  },
  {
   "cell_type": "markdown",
   "metadata": {},
   "source": [
    "### 外れ値除去"
   ]
  },
  {
   "cell_type": "code",
   "execution_count": null,
   "metadata": {},
   "outputs": [],
   "source": [
    "# 左右をカット\n",
    "def cut_data(time, data, start, end):\n",
    "    idx = (time >= start) & (time <= end)\n",
    "    return time[idx], data[idx]\n",
    "\n",
    "\n",
    "def cut_all_data(time, datas, start, end):\n",
    "    idx = (time >= start) & (time <= end)\n",
    "    return time[idx], (data[idx] for data in datas)"
   ]
  },
  {
   "cell_type": "markdown",
   "metadata": {},
   "source": [
    "#### 除去後のデータを描画"
   ]
  },
  {
   "cell_type": "code",
   "execution_count": null,
   "metadata": {},
   "outputs": [],
   "source": [
    "all_data = [current_filtered, position_filtered, velocity_filtered, accel_filtered]\n",
    "time_cut, (cur_filt_cut, pos_filt_cut, vel_filt_cut, accel_filt_cut) = cut_all_data(time, all_data, 0.05, 5.5)\n",
    "plot_graph(time_cut, cur_filt_cut, pos_filt_cut, vel_filt_cut, accel_filt_cut)"
   ]
  },
  {
   "cell_type": "markdown",
   "metadata": {},
   "source": [
    "## 前処理まとめ"
   ]
  },
  {
   "cell_type": "code",
   "execution_count": null,
   "metadata": {},
   "outputs": [],
   "source": [
    "# 今までの処理を関数化\n",
    "def process_data(time, current, position, cutoff=10, start=0.05, end=5.5, dual_filtering=False):\n",
    "    # positionのオフセット調整\n",
    "    position = position - position[0]\n",
    "    # 速度の計算\n",
    "    velocity = calc_velocity(position, time)\n",
    "    accel = calc_acceleration(position, time)\n",
    "\n",
    "    # ローパスをかける\n",
    "    # Define the filter\n",
    "    fs = 500.0  # Sampling rate, Hz\n",
    "    order = 2  # Filter order\n",
    "\n",
    "    # Apply the filter\n",
    "    current_filtered = butter_lowpass_filter(current, cutoff, fs, order)\n",
    "    position_filtered = butter_lowpass_filter(position, cutoff, fs, order)\n",
    "\n",
    "    if dual_filtering:  # 二重にフィルタリング\n",
    "        # 速度の計算\n",
    "        velocity_filtered = calc_velocity(position_filtered, time)\n",
    "        velocity_filtered = butter_lowpass_filter(velocity_filtered, cutoff, fs, order)\n",
    "\n",
    "        # 加速度の計算\n",
    "        accel_filtered = calc_acceleration(position_filtered, time)\n",
    "        accel_filtered = butter_lowpass_filter(accel_filtered, cutoff, fs, order)\n",
    "    else:\n",
    "        # 速度の計算\n",
    "        velocity_filtered = butter_lowpass_filter(velocity, cutoff, fs, order)\n",
    "\n",
    "        # 加速度の計算\n",
    "        accel_filtered = butter_lowpass_filter(accel, cutoff, fs, order)\n",
    "\n",
    "    all_data = [current_filtered, position_filtered, velocity_filtered, accel_filtered]\n",
    "    time_cut, (cur_filt_cut, pos_filt_cut, vel_filt_cut, accel_filt_cut) = cut_all_data(time, all_data, start, end)\n",
    "\n",
    "    return time_cut, cur_filt_cut, pos_filt_cut, vel_filt_cut, accel_filt_cut"
   ]
  },
  {
   "cell_type": "markdown",
   "metadata": {},
   "source": [
    "### 前処理全体の実行結果"
   ]
  },
  {
   "cell_type": "code",
   "execution_count": null,
   "metadata": {},
   "outputs": [],
   "source": [
    "time, current, position,_ = read_data(base.joinpath(\"data\", \"data3.csv\"))\n",
    "time_cut, cur_filt_cut, pos_filt_cut, vel_filt_cut, accel_filt_cut = process_data(\n",
    "    time, current, position, cutoff=5, start=0.00, end=5.5, dual_filtering=False\n",
    ")\n",
    "plot_graph(time_cut, cur_filt_cut, pos_filt_cut, vel_filt_cut, accel_filt_cut)"
   ]
  },
  {
   "cell_type": "markdown",
   "metadata": {},
   "source": [
    "# 最小二乗法でのパラメータ推定"
   ]
  },
  {
   "cell_type": "markdown",
   "metadata": {},
   "source": [
    "## 係数行列・定ベクトル計算"
   ]
  },
  {
   "cell_type": "markdown",
   "metadata": {},
   "source": [
    "### 粘性摩擦のみを考慮"
   ]
  },
  {
   "cell_type": "code",
   "execution_count": null,
   "metadata": {},
   "outputs": [],
   "source": [
    "def calc_mat_b(time: np.ndarray, cur: np.ndarray, pos: np.ndarray, vel: np.ndarray) -> Tuple[np.ndarray, np.ndarray]:\n",
    "    # J dtheta + D theta = \\int i dt\n",
    "    diff_t = np.diff(time)\n",
    "    int_cur = np.cumsum(cur[:-1] * diff_t)\n",
    "    A = np.zeros((len(time) - 1, 2))\n",
    "    A[:, 0] = vel[:-1]\n",
    "    A[:, 1] = pos[:-1]\n",
    "    return A, int_cur"
   ]
  },
  {
   "cell_type": "markdown",
   "metadata": {},
   "source": [
    "### クーロン摩擦・粘性摩擦を考慮"
   ]
  },
  {
   "cell_type": "code",
   "execution_count": null,
   "metadata": {},
   "outputs": [],
   "source": [
    "def calc_mat_b_w_coulomb(time: np.ndarray, cur: np.ndarray, pos: np.ndarray, vel: np.ndarray) -> Tuple[np.ndarray, np.ndarray]:\n",
    "    # クーロン摩擦あり:J dtheta + D theta + C t = \\int i dt\n",
    "    diff_t = np.diff(time)\n",
    "    int_cur = np.cumsum(cur[:-1] * diff_t)\n",
    "    A = np.zeros((len(time)-1, 3))\n",
    "    A[:, 0] = vel[:-1]\n",
    "    A[:, 1] = pos[:-1]\n",
    "    A[:, 2] = time[:-1]\n",
    "    return A, int_cur"
   ]
  },
  {
   "cell_type": "markdown",
   "metadata": {},
   "source": [
    "### 計算例"
   ]
  },
  {
   "cell_type": "markdown",
   "metadata": {},
   "source": [
    "#### 粘性摩擦のみ"
   ]
  },
  {
   "cell_type": "code",
   "execution_count": null,
   "metadata": {},
   "outputs": [],
   "source": [
    "# 最小二乗法でパラメータ推定\n",
    "A, b = calc_mat_b(time_cut, cur_filt_cut, pos_filt_cut, vel_filt_cut)\n",
    "w = np.linalg.lstsq(A, b, rcond=None)[0]\n",
    "J = w[0]\n",
    "D = w[1]\n",
    "print(f\"J = {J}, D = {D}\")"
   ]
  },
  {
   "cell_type": "markdown",
   "metadata": {},
   "source": [
    "#### クーロン摩擦・粘性摩擦"
   ]
  },
  {
   "cell_type": "code",
   "execution_count": null,
   "metadata": {},
   "outputs": [],
   "source": [
    "# 最小二乗法でパラメータ推定\n",
    "A, b = calc_mat_b_w_coulomb(time_cut, cur_filt_cut, pos_filt_cut, vel_filt_cut)\n",
    "w = np.linalg.lstsq(A, b, rcond=None)[0]\n",
    "J = w[0]\n",
    "D = w[1]\n",
    "c = w[2]\n",
    "print(f\"J = {J}, D = {D}\", f\"c = {c}\")"
   ]
  },
  {
   "cell_type": "markdown",
   "metadata": {},
   "source": [
    "## 推定結果を用いて再構成"
   ]
  },
  {
   "cell_type": "code",
   "execution_count": null,
   "metadata": {},
   "outputs": [],
   "source": [
    "# 得られたパラメータを使って，4次ルンゲクッタ法でシミュレーション\n",
    "def runge_kutta(f, t0, x0, v0, te, h):\n",
    "    ts = np.arange(t0, te, h)\n",
    "    xs = []\n",
    "    vs = []\n",
    "    x = x0\n",
    "    v = v0\n",
    "    for t in ts:\n",
    "        xs.append(x)\n",
    "        vs.append(v)\n",
    "        k1 = f(t, v, x)\n",
    "        l1 = v\n",
    "\n",
    "        k2 = f(t + h / 2, v + h / 2 * k1, x + h / 2 * l1)\n",
    "        l2 = v + h / 2 * k1\n",
    "\n",
    "        k3 = f(t + h / 2, v + h / 2 * k2, x + h / 2 * l2)\n",
    "        l3 = v + h / 2 * k2\n",
    "\n",
    "        k4 = f(t + h, v + h * k3, x + h * l3)\n",
    "        l4 = v + h * k3\n",
    "\n",
    "        v = v + (k1 + 2 * k2 + 2 * k3 + k4) / 6 * h\n",
    "        x = x + (l1 + 2 * l2 + 2 * l3 + l4) / 6 * h\n",
    "\n",
    "    return (ts, np.array(xs), np.array(vs))"
   ]
  },
  {
   "cell_type": "code",
   "execution_count": null,
   "metadata": {},
   "outputs": [],
   "source": [
    "def compare_real_reconstruct(t_real, t_rec, pos_real, pos_rec, vel_real, vel_rec):\n",
    "    plt.figure()\n",
    "    # 描画の都合で正規化\n",
    "\n",
    "    pos_norm = np.max(np.abs(pos_real))\n",
    "    vel_norm = np.max(np.abs(vel_real))\n",
    "\n",
    "    plt.plot(t_real, pos_real / pos_norm, label=\"real position\")\n",
    "    plt.plot(t_rec, pos_rec / pos_norm, label=\"reconstructed position\")\n",
    "    plt.plot(t_real, vel_real / vel_norm, label=\"real velocity\")\n",
    "    plt.plot(t_rec, vel_rec / vel_norm, label=\"reconstructed velocity\")\n",
    "\n",
    "    plt.legend()\n",
    "    plt.grid()"
   ]
  },
  {
   "cell_type": "code",
   "execution_count": null,
   "metadata": {},
   "outputs": [],
   "source": [
    "def func(t, v, x, time_cut, J, D, c):\n",
    "    # もっとも近いtをその時刻の電流とする\n",
    "    idx = np.argmin(np.abs(time_cut - t))\n",
    "    i = cur_filt_cut[idx]\n",
    "    return (i - D * v - c) / J"
   ]
  },
  {
   "cell_type": "markdown",
   "metadata": {},
   "source": [
    "### 実行例"
   ]
  },
  {
   "cell_type": "code",
   "execution_count": null,
   "metadata": {},
   "outputs": [],
   "source": [
    "f = lambda t, v, x: func(t, v, x,time_cut, J, D, c)\n",
    "ts, xs, vs = runge_kutta(f, time_cut[10], pos_filt_cut[10], vel_filt_cut[10], time_cut[-1], 0.01)\n",
    "compare_real_reconstruct(time_cut, ts, pos_filt_cut, xs, vel_filt_cut, vs)"
   ]
  },
  {
   "cell_type": "code",
   "execution_count": null,
   "metadata": {},
   "outputs": [],
   "source": [
    "# data0,..., data3 のデータを使って，パラメータ推定を行う\n",
    "def estimate_params(data_name: List[str], cutoff=10, start=0.05, end=5.5, dual_filtering=True):\n",
    "    As, bs = [], []\n",
    "    for name in data_name:\n",
    "        time, current, position,_ = read_data(base.joinpath(\"data\", name))\n",
    "        time_cut, cur_filt_cut, pos_filt_cut, vel_filt_cut, accel_filt_cut = process_data(\n",
    "            time, current, position, cutoff=cutoff, start=start, end=end, dual_filtering=dual_filtering\n",
    "        )\n",
    "        A, b = calc_mat_b(time_cut, cur_filt_cut, pos_filt_cut, vel_filt_cut)\n",
    "        As.append(A)\n",
    "        bs.append(b)\n",
    "\n",
    "    A = np.vstack(As)\n",
    "    b = np.hstack(bs)\n",
    "    \n",
    "    w = np.linalg.lstsq(A, b, rcond=None)[0]\n",
    "    J = w[0]\n",
    "    D = w[1]\n",
    "\n",
    "    return J, D"
   ]
  },
  {
   "cell_type": "code",
   "execution_count": null,
   "metadata": {},
   "outputs": [],
   "source": [
    "# data_names = ['data0.csv','data1.csv','data2.csv','data3.csv']\n",
    "# data_names = [\"data0.csv\", \"data1.csv\", \"data2.csv\", \"data3.csv\", \"data4.csv\", \"data5.csv\", \"data6.csv\", \"data7.csv\"]\n",
    "data_names = [\"data0.csv\", \"data1.csv\", \"data2.csv\", \"data3.csv\", \"data4.csv\"]\n",
    "# data_names = ['data0.csv','data1.csv','data2.csv']\n",
    "# data_names = ['data0.csv']\n",
    "\n",
    "\n",
    "J, D = estimate_params(data_names, cutoff=5, start=0.00, end=5.5, dual_filtering=False)\n",
    "print(f\"J={J}, D={D}\")"
   ]
  },
  {
   "cell_type": "code",
   "execution_count": null,
   "metadata": {},
   "outputs": [],
   "source": [
    "show_data_idx = 2\n",
    "for show_data_idx in range(0, 8):\n",
    "    time, current, position,velocity = read_data(base.joinpath(\"data\", f\"data{show_data_idx}.csv\"))\n",
    "    time_cut, cur_filt_cut, pos_filt_cut, vel_filt_cut, accel_filt_cut = process_data(\n",
    "        time, current, position, cutoff=5, start=0.00, end=5.5, dual_filtering=False\n",
    "    )\n",
    "    t_start_idx = 0\n",
    "    f = lambda t, v, x: func(t, v, x, time_cut, J, D)\n",
    "    ts, xs, vs = runge_kutta(\n",
    "        f, time_cut[t_start_idx], pos_filt_cut[t_start_idx], vel_filt_cut[t_start_idx], time_cut[-1], 0.01\n",
    "    )\n",
    "    compare_real_reconstruct(time, ts, position, xs, velocity, vs)\n",
    "    compare_real_reconstruct(time_cut, ts, pos_filt_cut, xs, vel_filt_cut, vs)"
   ]
  },
  {
   "cell_type": "code",
   "execution_count": null,
   "metadata": {},
   "outputs": [],
   "source": []
  }
 ],
 "metadata": {
  "kernelspec": {
   "display_name": "Python 3",
   "language": "python",
   "name": "python3"
  },
  "language_info": {
   "codemirror_mode": {
    "name": "ipython",
    "version": 3
   },
   "file_extension": ".py",
   "mimetype": "text/x-python",
   "name": "python",
   "nbconvert_exporter": "python",
   "pygments_lexer": "ipython3",
   "version": "3.8.10"
  }
 },
 "nbformat": 4,
 "nbformat_minor": 2
}
